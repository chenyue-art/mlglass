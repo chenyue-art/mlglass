{
 "cells": [
  {
   "cell_type": "markdown",
   "id": "f52e8300",
   "metadata": {},
   "source": [
    "## Get best and median fold"
   ]
  },
  {
   "cell_type": "code",
   "id": "c57afc34",
   "metadata": {
    "scrolled": true,
    "jupyter": {
     "is_executing": true
    }
   },
   "source": [
    "import glob\n",
    "import pandas as pd\n",
    "\n",
    "properties = [\"MOD_UNG\", \"ANY_TEC\", \"TLiq\", \"NUD300\", \"ND300\", \"TG\"]\n",
    "measure = \"R2\"\n",
    "model = \"rf\"\n",
    "\n",
    "medians = []\n",
    "bests = []\n",
    "for prop in properties:\n",
    "    all_files = glob.glob(f\"data2/logs/performance_best_models_{prop}*.csv\")\n",
    "\n",
    "    perf_perfold_list = []\n",
    "\n",
    "    for filename in all_files:\n",
    "        df = pd.read_csv(filename, index_col=0)\n",
    "        fold = filename.split('fold')[1].split('.csv')[0]\n",
    "        perf = df[model][measure]\n",
    "        perf_perfold_list.append([fold, perf])\n",
    "\n",
    "    perf_perfold_df = pd.DataFrame(perf_perfold_list, columns=[\"fold\", \"perf\"])\n",
    "\n",
    "    median = perf_perfold_df['perf'].median()\n",
    "    aux = (perf_perfold_df['perf'] - median).abs()\n",
    "    aux_median_model = perf_perfold_df[aux == aux.min()].sort_values(by='perf', ascending=False)\n",
    "    aux_best_model = perf_perfold_df.sort_values(by='perf', ascending=False)\n",
    "\n",
    "    median_fold = aux_median_model[\"fold\"].iloc[0]\n",
    "    best_fold = aux_best_model[\"fold\"].iloc[0]\n",
    "    \n",
    "    medians.append(median_fold)\n",
    "    bests.append(best_fold)\n",
    "    print(f\"Median fold for {prop} is {median_fold}\")\n",
    "    print(f\"Best fold for {prop} is {best_fold}\")\n",
    "    print()\n",
    "    \n",
    "    \n",
    "df_folds = pd.DataFrame([[\"median\"]+medians, [\"best\"]+bests], columns=[\"TP\"]+properties).set_index([\"TP\"])\n",
    "df_folds"
   ],
   "outputs": [],
   "execution_count": null
  },
  {
   "cell_type": "markdown",
   "id": "d899c559",
   "metadata": {},
   "source": [
    "## Generating SHAP plot"
   ]
  },
  {
   "cell_type": "code",
   "id": "f3ed6c79",
   "metadata": {
    "jupyter": {
     "is_executing": true
    }
   },
   "source": [
    "import os\n",
    "import gzip\n",
    "import pickle\n",
    "import shap\n",
    "import numpy as np\n",
    "import matplotlib.pyplot as plt\n",
    "from matplotlib.pyplot import figure\n",
    "\n",
    "\n",
    "PERCENTILES = [20, 80]\n",
    "\n",
    "# funcao cedida pelo Daniel para fazer percentil\n",
    "def feature_label(all_x, all_y, pct=PERCENTILES):\n",
    "\n",
    "    pcntiles = np.percentile(all_y, pct)\n",
    "\n",
    "    low_idx = (all_y[all_y < pcntiles[0]].index,)\n",
    "    low_x = all_x.loc[low_idx]\n",
    "    low_x_count = low_x.astype(bool).sum(axis=0) / len(low_x) * 100\n",
    "\n",
    "    high_idx = (all_y[all_y > pcntiles[1]].index,)\n",
    "    high_x = all_x.loc[high_idx]\n",
    "    high_x_count = high_x.astype(bool).sum(axis=0) / len(high_x) * 100\n",
    "\n",
    "    features = all_x.columns.tolist()\n",
    "    features = [\n",
    "        f\"{f} [{l:.1f}%, {h:.1f}%, {(m*100):.1f}%]\"\n",
    "        for f, m, l, h in zip(features, all_x.max(axis=0), low_x_count, high_x_count)\n",
    "    ]\n",
    "    # átomo [perc_low, perc_high, perc_max]\n",
    "    return features\n",
    "\n",
    "\n",
    "mode_types = df_folds.index.to_list()\n",
    "props = df_folds.columns.to_list()\n",
    "\n",
    "for mode_type in mode_types:\n",
    "    for prop in props:\n",
    "        figure(figsize=(10, 10), dpi=300)\n",
    "\n",
    "        fold = df_folds[prop][mode_type]\n",
    "        file = f\"data2/models/best_rf_{prop}_fold{fold}.model.gz\"\n",
    "        \n",
    "        model = None\n",
    "        with gzip.open(file, 'rb') as umodel:\n",
    "            model = pickle.load(umodel)\n",
    "\n",
    "\n",
    "        train_file = f\"data2/train_test_split/{prop}_train_fold{fold}.csv\"\n",
    "        test_file = f\"data2/train_test_split/{prop}_test_fold{fold}.csv\"\n",
    "        df_train = pd.read_csv(train_file)\n",
    "        df_test = pd.read_csv(test_file)\n",
    "        df = pd.concat([df_train, df_test]).reset_index(drop=True)\n",
    "\n",
    "        y = df[prop].values\n",
    "        dfX = df.drop(prop, axis=1)\n",
    "        X = dfX.values\n",
    "        \n",
    "        file_name = f\"{mode_type}-fold_{prop}_fold{fold}_shap\"\n",
    "\n",
    "        features_names = feature_label(dfX, df[prop], PERCENTILES)\n",
    "        explainer = shap.Explainer(model, feature_names=features_names)\n",
    "        \n",
    "        shap_dump_file = f\"shap_values_dump/{file_name}.dump\"\n",
    "        shap_values = None\n",
    "        \n",
    "        if os.path.exists(shap_dump_file):\n",
    "            with open(shap_dump_file, 'rb') as dump_file:\n",
    "                shap_values = pickle.load(dump_file)\n",
    "        else: \n",
    "            shap_values = explainer(X)\n",
    "            if not os.path.exists(\"shap_values_dump\"):\n",
    "                os.mkdir(\"shap_values_dump\")\n",
    "            with open(shap_dump_file, 'wb') as dump_file:\n",
    "                pickle.dump(shap_values, dump_file)\n",
    "        \n",
    "        shap.plots.beeswarm(shap_values, max_display=11, show=False)\n",
    "\n",
    "        if not os.path.exists(\"images\"):\n",
    "            os.mkdir(\"images\")\n",
    "        plt.savefig(f\"images/{file_name}.png\", bbox_inches = \"tight\")\n",
    "        plt.close()"
   ],
   "outputs": [],
   "execution_count": null
  },
  {
   "cell_type": "markdown",
   "id": "76b15870",
   "metadata": {},
   "source": [
    "## Results"
   ]
  },
  {
   "cell_type": "code",
   "id": "8e1e9fc9",
   "metadata": {
    "scrolled": false,
    "jupyter": {
     "is_executing": true
    }
   },
   "source": [
    "import matplotlib.pyplot as plt\n",
    "import matplotlib.image as mpimg\n",
    "from matplotlib.pyplot import figure\n",
    "\n",
    "for mode_type in mode_types:\n",
    "    for prop in props:\n",
    "        fold = df_folds[prop][mode_type]\n",
    "        file_name = f\"{mode_type}-fold_{prop}_fold{fold}_shap\"\n",
    "        figure_file = f\"images/{file_name}.png\"\n",
    "        \n",
    "        figure(figsize=(10, 10), dpi=300)\n",
    "        img = mpimg.imread(figure_file)\n",
    "        imgplot = plt.imshow(img)\n",
    "        plt.show()"
   ],
   "outputs": [],
   "execution_count": null
  }
 ],
 "metadata": {
  "kernelspec": {
   "display_name": "Python 3",
   "language": "python",
   "name": "python3"
  },
  "language_info": {
   "codemirror_mode": {
    "name": "ipython",
    "version": 3
   },
   "file_extension": ".py",
   "mimetype": "text/x-python",
   "name": "python",
   "nbconvert_exporter": "python",
   "pygments_lexer": "ipython3",
   "version": "3.9.1"
  }
 },
 "nbformat": 4,
 "nbformat_minor": 5
}
